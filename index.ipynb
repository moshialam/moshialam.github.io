{
  "cells": [
    {
      "cell_type": "raw",
      "metadata": {},
      "source": [
        "---\n",
        "title: \"Moshi Alam\"\n",
        "# subtitle: \"Assistant Professor of Economics at  Clark University\"\n",
        "image: 20221021-LTH-Alam16-3.jpg\n",
        "toc: false\n",
        "about: \n",
        "  template: trestles #jolla # solana # trestles\n",
        "  image-shape: round\n",
        "  image-width: 15em\n",
        "  links:\n",
        "    # - icon: twitter\n",
        "    #   text: Twitter\n",
        "    #   href: https://twitter.com/MoshiAlam\n",
        "    # - icon: github\n",
        "    #   text: GitHub\n",
        "    #   href: https://github.com/moshialam\n",
        "    - icon: feather\n",
        "      text: Research\n",
        "      href: /research.html\n",
        "    - icon: filetype-pdf\n",
        "      text: CV\n",
        "      href: https://moshialam.github.io/papers/Alam_MdMoshiUl_CV.pdf\n",
        "    - icon: envelope\n",
        "      text: Email\n",
        "      href: mailto:alam.m@queensu.ca\n",
        "\n",
        "\n",
        "---"
      ],
      "id": "8bee599b"
    },
    {
      "cell_type": "markdown",
      "metadata": {},
      "source": [
        "# Thank you for visiting my website! \n",
        "<!-- {{< fa thumbs-up >}}  -->\n",
        "\n",
        "Hi! I am a labor and public economist. I am a Post-Doctoral Research Fellow at the Department of Economics, [Queen’s University](https://www.econ.queensu.ca/). I received my PhD in Economics, from the [University of Wisconsin-Madison](https://econ.wisc.edu/)."
      ],
      "id": "fc3fc8f9"
    },
    {
      "cell_type": "raw",
      "metadata": {},
      "source": [
        "---\n",
        "\n",
        "### Research Fields: \n",
        "\n",
        "Labor Economics, Public Economics,  Applied Econometrics \n",
        " <!-- <i class=\"bi bi-person-vcard\"></i>  -->\n",
        "\n",
        "<a href=\"/research.html\" class=\"btn btn-info\"> <i class=\"bi bi-feather\"></i>  Research \n",
        "</a> <a href=\"https://moshialam.github.io/papers/Alam_MdMoshiUl_CV.pdf\" target=\"_blank\" class=\"btn btn-success\"> <i class=\"bi bi-filetype-pdf\"></i>  CV \n",
        "</a> (_updated December 25, 2023_)\n",
        "\n",
        "\n",
        "\n",
        "My research interests are in answering applied microeconomic questions on economic inequality. Depending on the question of interest, I use either design-based or model-based methods, or better both!\n",
        "\n",
        "---"
      ],
      "id": "4a9c2f6b"
    },
    {
      "cell_type": "markdown",
      "metadata": {},
      "source": [
        "Pronouns: he/him/his\n"
      ],
      "id": "fd41670e"
    },
    {
      "cell_type": "markdown",
      "metadata": {},
      "source": [
        "---\n",
        "\n",
        "\n",
        "::: {.panel-tabset}\n",
        "## R\n",
        "``` {.r}\n",
        "fizz_buzz <- function(fbnums = 1:50) {\n",
        "  output <- dplyr::case_when(\n",
        "    fbnums %% 15 == 0 ~ \"FizzBuzz\",\n",
        "    fbnums %% 3 == 0 ~ \"Fizz\",\n",
        "    fbnums %% 5 == 0 ~ \"Buzz\",\n",
        "    TRUE ~ as.character(fbnums)\n",
        "  )\n",
        "  print(output)\n",
        "}\n",
        "```\n",
        "\n",
        "## Python\n",
        "``` {.python}\n",
        "def fizz_buzz(num):\n",
        "  if num % 15 == 0:\n",
        "    print(\"FizzBuzz\")\n",
        "  elif num % 5 == 0:\n",
        "    print(\"Buzz\")\n",
        "  elif num % 3 == 0:\n",
        "    print(\"Fizz\")\n",
        "  else:\n",
        "    print(num)\n",
        "```\n",
        "\n",
        ":::\n"
      ],
      "id": "c8e58e96"
    },
    {
      "cell_type": "code",
      "metadata": {},
      "source": [
        "#| code-fold: true\n",
        "#| code-summary: \"Show the code\"\n",
        "here is some code"
      ],
      "id": "22edcb18",
      "execution_count": null,
      "outputs": []
    },
    {
      "cell_type": "markdown",
      "metadata": {},
      "source": [
        "<script>\n",
        "document.getElementById(\"toggleAbstractButton\").addEventListener(\"click\", function() {\n",
        "    var content = document.getElementById(\"abstractContent\");\n",
        "    if (content.style.display === \"none\") {\n",
        "        content.style.display = \"block\";\n",
        "        this.textContent = \"[-] Abstract\"; \n",
        "    } else {\n",
        "        content.style.display = \"none\";\n",
        "        this.textContent = \"[+] Abstract\"; \n",
        "    }\n",
        "});\n",
        "</script>\n",
        "\n",
        "<script>\n",
        "document.querySelectorAll('.abstract-btn').forEach(function(btn) {\n",
        "  btn.onclick = function() {\n",
        "    var modal = document.getElementById('abstractModal');\n",
        "    modal.style.display = \"block\";\n",
        "  }\n",
        "});\n",
        "\n",
        "var span = document.getElementsByClassName(\"close\")[0];\n",
        "\n",
        "span.onclick = function() {\n",
        "  var modal = document.getElementById('abstractModal');\n",
        "  modal.style.display = \"none\";\n",
        "}\n",
        "\n",
        "window.onclick = function(event) {\n",
        "  var modal = document.getElementById('abstractModal');\n",
        "  if (event.target == modal) {\n",
        "    modal.style.display = \"none\";\n",
        "  }\n",
        "}\n",
        "</script>\n",
        "\n",
        "<link rel=\"stylesheet\" href=\"https://cdnjs.cloudflare.com/ajax/libs/font-awesome/5.15.4/css/all.min.css\">\n"
      ],
      "id": "7833aff5"
    }
  ],
  "metadata": {
    "kernelspec": {
      "name": "python3",
      "language": "python",
      "display_name": "Python 3 (ipykernel)"
    }
  },
  "nbformat": 4,
  "nbformat_minor": 5
}